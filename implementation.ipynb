{
 "cells": [
  {
   "cell_type": "code",
   "execution_count": null,
   "id": "6d6d7833",
   "metadata": {},
   "outputs": [],
   "source": [
    "# filename format ---> starts with male.. , female....\n",
    "                        "
   ]
  },
  {
   "cell_type": "code",
   "execution_count": 1,
   "id": "0f24ee14",
   "metadata": {},
   "outputs": [],
   "source": [
    "from audio_process import audio\n",
    "\n"
   ]
  },
  {
   "cell_type": "code",
   "execution_count": 2,
   "id": "867f6eed",
   "metadata": {},
   "outputs": [],
   "source": [
    "filePath = '/Users/prem/Desktop/diver/male/male_3481.wav'\n",
    "writePath = '/Users/prem/Desktop/try/22.wav'"
   ]
  },
  {
   "cell_type": "code",
   "execution_count": 3,
   "id": "aa03b719",
   "metadata": {},
   "outputs": [],
   "source": [
    "dp = audio(filePath,writePath)"
   ]
  },
  {
   "cell_type": "code",
   "execution_count": 4,
   "id": "bd4cd01e",
   "metadata": {
    "scrolled": true
   },
   "outputs": [
    {
     "name": "stderr",
     "output_type": "stream",
     "text": [
      "chunk:   0%|          | 0/23 [00:00<?, ?it/s, now=None]"
     ]
    },
    {
     "name": "stdout",
     "output_type": "stream",
     "text": [
      "1110011111000000011100000000000000000011100000000001110000001111111111+(1.8000000000000014)111111111111110000000000-(2.8199999999999963)MoviePy - Writing audio in /Users/prem/Desktop/diver/male/male_3481.wav\n"
     ]
    },
    {
     "name": "stderr",
     "output_type": "stream",
     "text": [
      "                                                       \r"
     ]
    },
    {
     "name": "stdout",
     "output_type": "stream",
     "text": [
      "MoviePy - Done.\n",
      "00000000000000000011111000000001111111111+(3.7499999999999902)111111111111111111111111000111111111111111111111111111111111111111111111111111111111111111100001111111000011111111111111110000001111110000000000-(8.370000000000013)MoviePy - Writing audio in /Users/prem/Desktop/diver/male/male_3481.wav\n"
     ]
    },
    {
     "name": "stderr",
     "output_type": "stream",
     "text": [
      "                                                        \r"
     ]
    },
    {
     "name": "stdout",
     "output_type": "stream",
     "text": [
      "MoviePy - Done.\n",
      "00000001\n"
     ]
    }
   ],
   "source": [
    "df = dp.process()"
   ]
  },
  {
   "cell_type": "code",
   "execution_count": 5,
   "id": "448dbb98",
   "metadata": {},
   "outputs": [
    {
     "data": {
      "text/plain": [
       "('/Users/prem/Desktop/try/22.wav', 'male')"
      ]
     },
     "execution_count": 5,
     "metadata": {},
     "output_type": "execute_result"
    }
   ],
   "source": [
    "df"
   ]
  },
  {
   "cell_type": "code",
   "execution_count": null,
   "id": "ed3d4d69",
   "metadata": {},
   "outputs": [],
   "source": []
  },
  {
   "cell_type": "code",
   "execution_count": null,
   "id": "eff4fc00",
   "metadata": {},
   "outputs": [],
   "source": []
  }
 ],
 "metadata": {
  "kernelspec": {
   "display_name": "Python 3",
   "language": "python",
   "name": "python3"
  },
  "language_info": {
   "codemirror_mode": {
    "name": "ipython",
    "version": 3
   },
   "file_extension": ".py",
   "mimetype": "text/x-python",
   "name": "python",
   "nbconvert_exporter": "python",
   "pygments_lexer": "ipython3",
   "version": "3.8.8"
  }
 },
 "nbformat": 4,
 "nbformat_minor": 5
}
